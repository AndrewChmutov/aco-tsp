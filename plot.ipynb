{
 "cells": [
  {
   "cell_type": "code",
   "execution_count": null,
   "metadata": {},
   "outputs": [],
   "source": [
    "import os\n",
    "import pandas as pd\n",
    "import seaborn as sns\n",
    "import matplotlib.pyplot as plt\n",
    "sns.set()"
   ]
  },
  {
   "cell_type": "code",
   "execution_count": null,
   "metadata": {},
   "outputs": [],
   "source": [
    "def tsp(n_nodes: int, alpha, beta, rho):\n",
    "    os.system('cmake --build build')\n",
    "    os.system(f'./build/ant {n_nodes} {alpha} {beta} {rho}')\n",
    "\n",
    "    path = []\n",
    "    with open('data/path.txt') as file:\n",
    "        for line in file:\n",
    "            path.append(int(line))\n",
    "    path.append(path[0])\n",
    "\n",
    "    df = pd.read_csv('data/graph.csv')\n",
    "    path = [tuple(df.iloc[i]) for i in path]\n",
    "    path = list(zip(*path))\n",
    "\n",
    "    plt.scatter(df['x'], df['y']);\n",
    "    plt.plot(path[0], path[1])"
   ]
  },
  {
   "cell_type": "code",
   "execution_count": null,
   "metadata": {},
   "outputs": [],
   "source": [
    "def tune_tsp(n_nodes: int):\n",
    "    os.system('cmake --build build')\n",
    "    os.system(f'./build/ant_optimize {n_nodes}')"
   ]
  },
  {
   "cell_type": "code",
   "execution_count": null,
   "metadata": {},
   "outputs": [],
   "source": [
    "tune_tsp(10)"
   ]
  },
  {
   "cell_type": "code",
   "execution_count": null,
   "metadata": {},
   "outputs": [],
   "source": [
    "tsp(10, 0.4, 4.2, 0.5)"
   ]
  },
  {
   "cell_type": "code",
   "execution_count": null,
   "metadata": {},
   "outputs": [],
   "source": []
  }
 ],
 "metadata": {
  "kernelspec": {
   "display_name": "opencv",
   "language": "python",
   "name": "python3"
  },
  "language_info": {
   "codemirror_mode": {
    "name": "ipython",
    "version": 3
   },
   "file_extension": ".py",
   "mimetype": "text/x-python",
   "name": "python",
   "nbconvert_exporter": "python",
   "pygments_lexer": "ipython3",
   "version": "3.11.4"
  },
  "orig_nbformat": 4
 },
 "nbformat": 4,
 "nbformat_minor": 2
}
